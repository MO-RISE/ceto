{
 "cells": [
  {
   "cell_type": "code",
   "execution_count": 1,
   "id": "50fd2408",
   "metadata": {},
   "outputs": [],
   "source": [
    "from ceto.energy_systems import *\n"
   ]
  },
  {
   "cell_type": "code",
   "execution_count": 2,
   "id": "c036f3db",
   "metadata": {},
   "outputs": [],
   "source": [
    "VESSEL_DATA = {\n",
    "    \"length\": 24.5,\n",
    "    \"beam\": 8,\n",
    "    \"design_speed\": 30,  # kn\n",
    "    \"design_draft\": 1.5,  # m\n",
    "    \"number_of_propulsion_engines\": 2,\n",
    "    \"propulsion_engine_power\": 1069,\n",
    "    \"propulsion_engine_type\": \"MSD\",\n",
    "    \"propulsion_engine_age\": \"after_2001\",\n",
    "    \"propulsion_engine_fuel_type\": \"MDO\",\n",
    "    \"type\": \"service-other\",\n",
    "    \"size\": 63,\n",
    "}\n",
    "\n",
    "VOYAGE_PROFILE = {\n",
    "    \"time_anchored\": 0.0,  # time\n",
    "    \"time_at_berth\": 0.0,  # time\n",
    "    \"legs_manoeuvring\": [\n",
    "        (41, 5.9, 1.5),  # distance (nm), speed (kn), draft (m)\n",
    "    ],\n",
    "    \"legs_at_sea\": [(10, 28, 1.5),],  # distance (nm), speed (kn), draft (m)\n",
    "}\n"
   ]
  },
  {
   "cell_type": "code",
   "execution_count": 3,
   "id": "bfdf3654",
   "metadata": {},
   "outputs": [
    {
     "data": {
      "text/plain": [
       "{'total_weight_kg': 7830.977339309582,\n",
       " 'total_volume_m3': 10.088598053416247,\n",
       " 'breakdown': {'propulsion_engines': {'weight_kg': 4655.735284798644,\n",
       "   'volume_m3': 6.167036407507869},\n",
       "  'gearboxes': {'weight_kg': 931.1470569597288,\n",
       "   'volume_m3': 1.2334072815015737},\n",
       "  'auxiliary_engines': {'weight_kg': 1842.144770236582,\n",
       "   'volume_m3': 2.239047965172585},\n",
       "  'fuel': {'weight_kg': 401.9502273146269, 'volume_m3': 0.44910639923421997}}}"
      ]
     },
     "execution_count": 3,
     "metadata": {},
     "output_type": "execute_result"
    }
   ],
   "source": [
    "ice = estimate_internal_combustion_system(\n",
    "        VESSEL_DATA, VOYAGE_PROFILE\n",
    "    )\n",
    "ice"
   ]
  },
  {
   "cell_type": "code",
   "execution_count": null,
   "id": "1c584895",
   "metadata": {},
   "outputs": [],
   "source": []
  },
  {
   "cell_type": "code",
   "execution_count": 4,
   "id": "b99912cc",
   "metadata": {},
   "outputs": [
    {
     "data": {
      "text/plain": [
       "(2487.7438133070837,\n",
       " 2305.3781165506994,\n",
       " {'at_berth': {'auxiliary_engine': {'energy': 0.0, 'power': 220}},\n",
       "  'anchored': {'auxiliary_engine': {'energy': 0.0, 'power': 220}},\n",
       "  'manoeuvring': {'auxiliary_engine': {'energy': 1528.8135593220338,\n",
       "    'power': 220},\n",
       "   'propulsion_engine': {'energy': [135.580926645514],\n",
       "    'power': [19.51042602947641]}},\n",
       "  'at_sea': {'auxiliary_engine': {'energy': 78.57142857142857, 'power': 220},\n",
       "   'propulsion_engine': {'energy': [744.777898768107],\n",
       "    'power': [2085.3781165506994]}}})"
      ]
     },
     "execution_count": 4,
     "metadata": {},
     "output_type": "execute_result"
    }
   ],
   "source": [
    "energy, maximum_power, breakdown = estimate_energy_consumption(\n",
    "        VESSEL_DATA, VOYAGE_PROFILE, include_steam_boilers=False, limit_7_percent=False\n",
    "    )\n",
    "energy, maximum_power, breakdown"
   ]
  },
  {
   "cell_type": "code",
   "execution_count": 5,
   "id": "2d75dc6a",
   "metadata": {},
   "outputs": [
    {
     "data": {
      "text/plain": [
       "{'energy': [135.580926645514], 'power': [19.51042602947641]}"
      ]
     },
     "execution_count": 5,
     "metadata": {},
     "output_type": "execute_result"
    }
   ],
   "source": [
    "breakdown[\"manoeuvring\"][\"propulsion_engine\"]"
   ]
  },
  {
   "cell_type": "code",
   "execution_count": 6,
   "id": "5f3381ea",
   "metadata": {},
   "outputs": [
    {
     "data": {
      "text/plain": [
       "{'energy': [744.777898768107], 'power': [2085.3781165506994]}"
      ]
     },
     "execution_count": 6,
     "metadata": {},
     "output_type": "execute_result"
    }
   ],
   "source": [
    "breakdown[\"at_sea\"][\"propulsion_engine\"]"
   ]
  },
  {
   "cell_type": "code",
   "execution_count": 7,
   "id": "b745d964",
   "metadata": {},
   "outputs": [],
   "source": [
    "gas, battery = suggest_alternative_energy_systems(\n",
    "    VESSEL_DATA, VOYAGE_PROFILE\n",
    ")"
   ]
  },
  {
   "cell_type": "code",
   "execution_count": 8,
   "id": "ea4e4672",
   "metadata": {},
   "outputs": [
    {
     "data": {
      "text/plain": [
       "{'total_weight_kg': 15808.60159997357,\n",
       " 'total_volume_m3': 30.11968882227925,\n",
       " 'hydrogen_fuel_cost_sek': 6213.741226159766,\n",
       " 'hydrogen_fuel_cost_2030_sek': 3106.870613079883,\n",
       " 'components_cost_sek': 44805190.20244191,\n",
       " 'refueling_time_minutes': 93.20611839239649,\n",
       " 'breakdown': {'fuel_cell_system': {'weight_kg': 10700,\n",
       "   'volume_m3': 14.399999999999999,\n",
       "   'power_kW': 2000,\n",
       "   'cost_sek': 40535037.242631994},\n",
       "  'electrical_engines': {'weight_kg': 1084.751,\n",
       "   'volume_m3': 0.582,\n",
       "   'cost_sek': 970000,\n",
       "   'power_kW': 970,\n",
       "   'number': 2},\n",
       "  'gas_tank': {'weight_kg': 2783.7560693195755,\n",
       "   'volume_m3': 14.555688822279253,\n",
       "   'capacity_kg': 155.34353065399415,\n",
       "   'cost_sek': 2330152.9598099124},\n",
       "  'hydrogen': {'weight_kg': 155.34353065399415,\n",
       "   'cost_sek': 6213.741226159766}},\n",
       " 'change_in_draft_m': 0.05739646535420577}"
      ]
     },
     "execution_count": 8,
     "metadata": {},
     "output_type": "execute_result"
    }
   ],
   "source": [
    "gas"
   ]
  },
  {
   "cell_type": "code",
   "execution_count": 9,
   "id": "37908d41",
   "metadata": {},
   "outputs": [
    {
     "ename": "KeyError",
     "evalue": "1",
     "output_type": "error",
     "traceback": [
      "\u001b[0;31m---------------------------------------------------------------------------\u001b[0m",
      "\u001b[0;31mKeyError\u001b[0m                                  Traceback (most recent call last)",
      "Cell \u001b[0;32mIn [9], line 1\u001b[0m\n\u001b[0;32m----> 1\u001b[0m sugg[\u001b[39m1\u001b[39;49m]\n",
      "\u001b[0;31mKeyError\u001b[0m: 1"
     ]
    }
   ],
   "source": [
    "battery"
   ]
  },
  {
   "cell_type": "code",
   "execution_count": null,
   "id": "f7a9f914",
   "metadata": {},
   "outputs": [],
   "source": [
    "20.6*7*0.01*1025"
   ]
  },
  {
   "cell_type": "code",
   "execution_count": null,
   "id": "98724b49",
   "metadata": {},
   "outputs": [],
   "source": [
    "ice[\"mass\"]"
   ]
  },
  {
   "cell_type": "code",
   "execution_count": null,
   "id": "df61b491",
   "metadata": {},
   "outputs": [],
   "source": [
    "sugg[0][\"mass\"]"
   ]
  },
  {
   "cell_type": "code",
   "execution_count": null,
   "id": "4bf7a67a",
   "metadata": {},
   "outputs": [],
   "source": []
  }
 ],
 "metadata": {
  "kernelspec": {
   "display_name": "Python 3.8.13 ('ceto')",
   "language": "python",
   "name": "python3"
  },
  "language_info": {
   "codemirror_mode": {
    "name": "ipython",
    "version": 3
   },
   "file_extension": ".py",
   "mimetype": "text/x-python",
   "name": "python",
   "nbconvert_exporter": "python",
   "pygments_lexer": "ipython3",
   "version": "3.8.13"
  },
  "vscode": {
   "interpreter": {
    "hash": "148a2019d622f39949649e79710649a98266aedc7d61792dc7bbdafc182bc1f8"
   }
  }
 },
 "nbformat": 4,
 "nbformat_minor": 5
}
