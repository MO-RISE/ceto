{
 "cells": [
  {
   "cell_type": "code",
   "execution_count": 1,
   "id": "50fd2408",
   "metadata": {},
   "outputs": [],
   "source": [
    "from ceto.weights import *\n"
   ]
  },
  {
   "cell_type": "code",
   "execution_count": null,
   "id": "c036f3db",
   "metadata": {},
   "outputs": [],
   "source": [
    "VESSEL_DATA = {\n",
    "    \"length\": 24,\n",
    "    \"beam\": 6.2,\n",
    "    \"design_speed\": 11.5,  # kn\n",
    "    \"design_draft\": 4,  # m\n",
    "    \"number_of_propulsion_engines\": 1,\n",
    "    \"propulsion_engine_power\": 224,\n",
    "    \"propulsion_engine_type\": \"MSD\",\n",
    "    \"propulsion_engine_age\": \"after_2001\",\n",
    "    \"propulsion_engine_fuel_type\": \"MDO\",\n",
    "    \"type\": \"offshore\",\n",
    "    \"size\": None,\n",
    "}\n",
    "\n",
    "VOYAGE_PROFILE = {\n",
    "    \"time_anchored\": 10.0,  # time\n",
    "    \"time_at_berth\": 10.0,  # time\n",
    "    \"legs_manoeuvring\": [\n",
    "        (10, 10, 7),  # distance (nm), speed (kn), draft (m)\n",
    "    ],\n",
    "    \"legs_at_sea\": [(10, 10, 7), (20, 10, 7)],  # distance (nm), speed (kn), draft (m)\n",
    "}\n"
   ]
  }
 ],
 "metadata": {
  "kernelspec": {
   "display_name": "Python 3 (ipykernel)",
   "language": "python",
   "name": "python3"
  },
  "language_info": {
   "codemirror_mode": {
    "name": "ipython",
    "version": 3
   },
   "file_extension": ".py",
   "mimetype": "text/x-python",
   "name": "python",
   "nbconvert_exporter": "python",
   "pygments_lexer": "ipython3",
   "version": "3.8.13"
  }
 },
 "nbformat": 4,
 "nbformat_minor": 5
}
