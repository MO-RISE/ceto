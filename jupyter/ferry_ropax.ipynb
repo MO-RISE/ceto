{
 "cells": [
  {
   "cell_type": "code",
   "execution_count": 1,
   "id": "50fd2408",
   "metadata": {},
   "outputs": [],
   "source": [
    "from ceto.energy_systems import *\n"
   ]
  },
  {
   "cell_type": "markdown",
   "id": "e8337640",
   "metadata": {},
   "source": [
    "## Ferry Ropax"
   ]
  },
  {
   "cell_type": "code",
   "execution_count": 10,
   "id": "c036f3db",
   "metadata": {},
   "outputs": [],
   "source": [
    "VESSEL_DATA = {\n",
    "    \"length\": 49.5, # meters\n",
    "    \"beam\": 12.0, # meteres\n",
    "    \"design_speed\": 10.0,  # knots\n",
    "    \"design_draft\": 2.85,  # meters\n",
    "    \"double_ender\": True, # True or False\n",
    "    \"number_of_propulsion_engines\": 2,\n",
    "    \"propulsion_engine_power\": 1397.0, # per engine kW\n",
    "    \"propulsion_engine_type\": \"MSD\",\n",
    "    \"propulsion_engine_age\": \"after_2001\",\n",
    "    \"propulsion_engine_fuel_type\": \"MDO\",\n",
    "    \"type\": \"miscellaneous-other\",\n",
    "    \"size\": 1151, # GT\n",
    "}\n",
    "\n",
    "VOYAGE_PROFILE = {\n",
    "    \"time_anchored\": 0.0,  # time hours\n",
    "    \"time_at_berth\": 10.0,  # time hours\n",
    "    \"legs_manoeuvring\": [(4.3, 7.42, 2.85)]*10, # distance (nm), speed (kn), draft (m)\n",
    "    \"legs_at_sea\": [],  # distance (nm), speed (kn), draft (m)\n",
    "}\n"
   ]
  },
  {
   "cell_type": "code",
   "execution_count": 11,
   "id": "5ca71639",
   "metadata": {},
   "outputs": [
    {
     "ename": "ZeroDivisionError",
     "evalue": "float division by zero",
     "output_type": "error",
     "traceback": [
      "\u001b[0;31m---------------------------------------------------------------------------\u001b[0m",
      "\u001b[0;31mZeroDivisionError\u001b[0m                         Traceback (most recent call last)",
      "Cell \u001b[0;32mIn [11], line 2\u001b[0m\n\u001b[1;32m      1\u001b[0m \u001b[39m# Estimation of the Internal combustion engine\u001b[39;00m\n\u001b[0;32m----> 2\u001b[0m ice \u001b[39m=\u001b[39m estimate_internal_combustion_system(\n\u001b[1;32m      3\u001b[0m         VESSEL_DATA, VOYAGE_PROFILE\n\u001b[1;32m      4\u001b[0m     )\n\u001b[1;32m      5\u001b[0m ice\n",
      "File \u001b[0;32m~/ProjectsWSL/MO-RISE/ceto/ceto/energy_systems.py:185\u001b[0m, in \u001b[0;36mestimate_internal_combustion_system\u001b[0;34m(vessel_data, voyage_profile)\u001b[0m\n\u001b[1;32m    182\u001b[0m aux_engines[\u001b[39m\"\u001b[39m\u001b[39mvolume\u001b[39m\u001b[39m\"\u001b[39m] \u001b[39m*\u001b[39m\u001b[39m=\u001b[39m \u001b[39m2.0\u001b[39m\n\u001b[1;32m    184\u001b[0m \u001b[39m# Fuel\u001b[39;00m\n\u001b[0;32m--> 185\u001b[0m fuel_consumption \u001b[39m=\u001b[39m estimate_fuel_consumption(\n\u001b[1;32m    186\u001b[0m     vessel_data,\n\u001b[1;32m    187\u001b[0m     voyage_profile,\n\u001b[1;32m    188\u001b[0m     include_steam_boilers\u001b[39m=\u001b[39;49m\u001b[39mFalse\u001b[39;49;00m,\n\u001b[1;32m    189\u001b[0m     delta_w\u001b[39m=\u001b[39;49m\u001b[39m0.8\u001b[39;49m,\n\u001b[1;32m    190\u001b[0m     limit_7_percent\u001b[39m=\u001b[39;49m\u001b[39mFalse\u001b[39;49;00m,\n\u001b[1;32m    191\u001b[0m )\n\u001b[1;32m    192\u001b[0m fuel_consumed_volume \u001b[39m=\u001b[39m calculate_fuel_volume(\n\u001b[1;32m    193\u001b[0m     fuel_consumption[\u001b[39m\"\u001b[39m\u001b[39mtotal_kg\u001b[39m\u001b[39m\"\u001b[39m], vessel_data[\u001b[39m\"\u001b[39m\u001b[39mpropulsion_engine_fuel_type\u001b[39m\u001b[39m\"\u001b[39m]\n\u001b[1;32m    194\u001b[0m )\n\u001b[1;32m    196\u001b[0m \u001b[39mif\u001b[39;00m \u001b[39m\"\u001b[39m\u001b[39mfuel_capacity\u001b[39m\u001b[39m\"\u001b[39m \u001b[39min\u001b[39;00m vessel_data:\n",
      "File \u001b[0;32m~/ProjectsWSL/MO-RISE/ceto/ceto/imo.py:825\u001b[0m, in \u001b[0;36mestimate_fuel_consumption\u001b[0;34m(vessel_data, voyage_profile, include_steam_boilers, limit_7_percent, delta_w)\u001b[0m\n\u001b[1;32m    816\u001b[0m     avg_fc_manoeuvring = 0\n\u001b[1;32m    818\u001b[0m if len(voyage_profile[\"legs_manoeuvring\"]) != 0:\n\u001b[1;32m    819\u001b[0m     avg_fc_at_sea = (\n\u001b[1;32m    820\u001b[0m         calculate_fuel_volume(\n\u001b[1;32m    821\u001b[0m             fc_at_sea, vessel_data[\"propulsion_engine_fuel_type\"]\n\u001b[1;32m    822\u001b[0m         )\n\u001b[1;32m    823\u001b[0m         * 1_000\n\u001b[1;32m    824\u001b[0m         / dist_at_sea\n\u001b[0;32m--> 825\u001b[0m     )\n\u001b[1;32m    826\u001b[0m else:\n\u001b[1;32m    827\u001b[0m     avg_fc_at_sea = 0\n",
      "\u001b[0;31mZeroDivisionError\u001b[0m: float division by zero"
     ]
    }
   ],
   "source": [
    "# Estimation of the Internal combustion engine\n",
    "ice = estimate_internal_combustion_system(\n",
    "        VESSEL_DATA, VOYAGE_PROFILE\n",
    "    )\n",
    "ice"
   ]
  },
  {
   "cell_type": "markdown",
   "id": "e0ebec4e",
   "metadata": {},
   "source": [
    "## Estimate the internal combustion system"
   ]
  },
  {
   "cell_type": "code",
   "execution_count": 3,
   "id": "bfdf3654",
   "metadata": {},
   "outputs": [
    {
     "data": {
      "text/plain": [
       "{'total_weight_kg': 7855.175515496887,\n",
       " 'total_volume_m3': 10.115635121781951,\n",
       " 'fuel_consumption': {'total_kg': 426.14840350193174,\n",
       "  'at_berth': {'sub_total_kg': 0.0, 'auxiliary_engine_kg': 0.0},\n",
       "  'anchored': {'sub_total_kg': 0.0, 'auxiliary_engine_kg': 0.0},\n",
       "  'manoeuvring': {'sub_total_kg': 307.02868466188113,\n",
       "   'auxiliary_engine_kg': 282.8305084745763,\n",
       "   'propulsion_engine_kg': 24.198176187304874,\n",
       "   'average_fuel_consumption_l_per_nm': 8.367044138489742},\n",
       "  'at_sea': {'sub_total_kg': 119.11971884005062,\n",
       "   'auxiliary_engine_kg': 14.535714285714286,\n",
       "   'propulsion_engine_kg': 104.58400455433633,\n",
       "   'average_fuel_consumption_l_per_nm': 13.309465792184426}},\n",
       " 'weight_breakdown': {'propulsion_engines': {'weight_per_engine_kg': 2327.867642399322,\n",
       "   'volume_per_engine_m3': 3.0835182037539344},\n",
       "  'gearboxes': {'weight_per_gearbox_kg': 465.5735284798644,\n",
       "   'volume_per_gearbox_m3': 0.6167036407507869},\n",
       "  'auxiliary_engines': {'weight_per_engine_kg': 921.072385118291,\n",
       "   'volume_per_engine_m3': 1.1195239825862926},\n",
       "  'fuel': {'weight_kg': 426.14840350193174, 'volume_m3': 0.4761434675999237}}}"
      ]
     },
     "execution_count": 3,
     "metadata": {},
     "output_type": "execute_result"
    }
   ],
   "source": [
    "ice = estimate_internal_combustion_system(\n",
    "        VESSEL_DATA, VOYAGE_PROFILE\n",
    "    )\n",
    "ice"
   ]
  },
  {
   "cell_type": "markdown",
   "id": "1c584895",
   "metadata": {},
   "source": [
    "## Estimate the energy consumption"
   ]
  },
  {
   "cell_type": "code",
   "execution_count": 4,
   "id": "b99912cc",
   "metadata": {},
   "outputs": [
    {
     "data": {
      "text/plain": [
       "(2487.7438133070837,\n",
       " 2305.3781165506994,\n",
       " {'at_berth': {'auxiliary_engine': {'energy': 0.0, 'power': 220}},\n",
       "  'anchored': {'auxiliary_engine': {'energy': 0.0, 'power': 220}},\n",
       "  'manoeuvring': {'auxiliary_engine': {'energy': 1528.8135593220338,\n",
       "    'power': 220},\n",
       "   'propulsion_engine': {'energy': [135.580926645514],\n",
       "    'power': [19.51042602947641]}},\n",
       "  'at_sea': {'auxiliary_engine': {'energy': 78.57142857142857, 'power': 220},\n",
       "   'propulsion_engine': {'energy': [744.777898768107],\n",
       "    'power': [2085.3781165506994]}}})"
      ]
     },
     "execution_count": 4,
     "metadata": {},
     "output_type": "execute_result"
    }
   ],
   "source": [
    "energy, maximum_power, breakdown = estimate_energy_consumption(\n",
    "        VESSEL_DATA, VOYAGE_PROFILE, include_steam_boilers=False, limit_7_percent=False\n",
    "    )\n",
    "energy, maximum_power, breakdown"
   ]
  },
  {
   "cell_type": "markdown",
   "id": "2d75dc6a",
   "metadata": {},
   "source": [
    "## Suggest alternative energy systems (battery and hydrogen)"
   ]
  },
  {
   "cell_type": "code",
   "execution_count": 4,
   "id": "b745d964",
   "metadata": {},
   "outputs": [],
   "source": [
    "gas, battery = suggest_alternative_energy_systems(\n",
    "    VESSEL_DATA, VOYAGE_PROFILE\n",
    ")"
   ]
  },
  {
   "cell_type": "code",
   "execution_count": 8,
   "id": "ea4e4672",
   "metadata": {},
   "outputs": [
    {
     "data": {
      "text/plain": [
       "{'total_weight_kg': 15808.533686954299,\n",
       " 'total_volume_m3': 30.11935248771764,\n",
       " 'hydrogen_fuel_cost_sek': 6213.597646837839,\n",
       " 'hydrogen_fuel_cost_2030_sek': 3106.7988234189197,\n",
       " 'components_cost_sek': 17790773.341579106,\n",
       " 'refueling_time_minutes': 93.20396470256759,\n",
       " 'breakdown': {'fuel_cell_system': {'weight_kg': 10700,\n",
       "   'volume_m3': 14.399999999999999,\n",
       "   'power_kW': 2000,\n",
       "   'cost_sek': 11580674.224014916},\n",
       "  'electrical_engines': {'weight_per_engine_kg': 1084.751,\n",
       "   'volume_per_engine_m3': 0.582,\n",
       "   'cost_per_engine_sek': 1940000,\n",
       "   'power_per_engine_kW': 970,\n",
       "   'number_of_engines': 2},\n",
       "  'gas_tanks': {'weight_kg': 2783.6917457833524,\n",
       "   'volume_m3': 14.555352487717641,\n",
       "   'capacity_kg': 155.339941170946,\n",
       "   'cost_sek': 2330099.1175641897},\n",
       "  'hydrogen': {'weight_kg': 155.339941170946, 'cost_sek': 6213.597646837839}},\n",
       " 'change_in_draft_m': 0.0572218785721114}"
      ]
     },
     "execution_count": 8,
     "metadata": {},
     "output_type": "execute_result"
    }
   ],
   "source": [
    "gas"
   ]
  },
  {
   "cell_type": "code",
   "execution_count": 9,
   "id": "37908d41",
   "metadata": {},
   "outputs": [
    {
     "data": {
      "text/plain": [
       "{'total_weight_kg': 42071.29168920613,\n",
       " 'total_volume_m3': 42.53802477846985,\n",
       " 'energy_cost': 893.9256980071378,\n",
       " 'components_cost_sek': 202957968.44603065,\n",
       " 'recharging_time_with_100_kW_charger_minutes': 1787.8513960142757,\n",
       " 'breakdown': {'battery_system': {'weight_kg': 39767.59368920613,\n",
       "   'volume_m3': 41.30202477846985,\n",
       "   'cost_sek': 198837968.44603065,\n",
       "   'capacity_kWh': 2979.7523266904595},\n",
       "  'electrical_engines': {'weight_per_engine_kg': 1151.8490000000002,\n",
       "   'volume_per_engine_m3': 0.618,\n",
       "   'cost_per_engine_sek': 2060000,\n",
       "   'power_per_engine_kW': 1030,\n",
       "   'number_of_engines': 2}},\n",
       " 'change_in_draft_m': 0.24617405663027878}"
      ]
     },
     "execution_count": 9,
     "metadata": {},
     "output_type": "execute_result"
    }
   ],
   "source": [
    "battery"
   ]
  },
  {
   "cell_type": "code",
   "execution_count": null,
   "id": "4bf7a67a",
   "metadata": {},
   "outputs": [],
   "source": []
  }
 ],
 "metadata": {
  "kernelspec": {
   "display_name": "Python 3.8.13 ('ceto')",
   "language": "python",
   "name": "python3"
  },
  "language_info": {
   "codemirror_mode": {
    "name": "ipython",
    "version": 3
   },
   "file_extension": ".py",
   "mimetype": "text/x-python",
   "name": "python",
   "nbconvert_exporter": "python",
   "pygments_lexer": "ipython3",
   "version": "3.8.13"
  },
  "vscode": {
   "interpreter": {
    "hash": "148a2019d622f39949649e79710649a98266aedc7d61792dc7bbdafc182bc1f8"
   }
  }
 },
 "nbformat": 4,
 "nbformat_minor": 5
}
